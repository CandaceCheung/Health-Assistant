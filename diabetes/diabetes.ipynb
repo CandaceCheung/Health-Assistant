{
 "cells": [
  {
   "cell_type": "code",
   "execution_count": null,
   "metadata": {},
   "outputs": [],
   "source": [
    "import matplotlib.pyplot as plt\n",
    "import tensorflow as tf"
   ]
  }
 ],
 "metadata": {
  "kernelspec": {
   "display_name": "Python 3.10.7 64-bit ('3.10.7')",
   "language": "python",
   "name": "python3"
  },
  "language_info": {
   "name": "python",
   "version": "3.10.7"
  },
  "orig_nbformat": 4,
  "vscode": {
   "interpreter": {
    "hash": "4f24a0253c97aac7067866ca5a551e1b796aba3ad79e62f4a54b94976627f254"
   }
  }
 },
 "nbformat": 4,
 "nbformat_minor": 2
}
