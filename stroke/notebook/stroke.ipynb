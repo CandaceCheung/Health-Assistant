{
 "cells": [
  {
   "cell_type": "code",
   "execution_count": 132,
   "metadata": {},
   "outputs": [],
   "source": [
    "import tensorflow as tf\n",
    "from tensorflow import keras\n",
    "import matplotlib.pyplot as plt\n",
    "from sklearn.model_selection import train_test_split\n",
    "from keras.models import Sequential\n",
    "from keras.layers import Dense, Dropout\n",
    "import numpy as np\n",
    "import pandas as pd"
   ]
  },
  {
   "cell_type": "code",
   "execution_count": 133,
   "metadata": {},
   "outputs": [
    {
     "name": "stdout",
     "output_type": "stream",
     "text": [
      "(891,)\n",
      "(891, 6)\n",
      "0    682\n",
      "1    209\n",
      "Name: stroke, dtype: int64\n"
     ]
    }
   ],
   "source": [
    "dataset = pd.read_csv('../dataset/healthcare-dataset-stroke-data.csv')\n",
    "\n",
    "dataset.replace( {'Male': 0,'Female':1, 'No': 0, 'Yes': 1, 'Private': 0, 'Self-employed': 1, 'Govt_job': 2, 'children': 3, 'Never_worked': 4 }, inplace=True)\n",
    "dataset.replace( {'Urban': 0, 'Rural': 1, 'formerly smoked': 1, 'never smoked': 0, 'smokes': 2, 'Unknown': 4 }, inplace=True)\n",
    "dataset.drop(['Residence_type','ever_married','work_type','avg_glucose_level'], axis=1,inplace=True)\n",
    "dataset.dropna(inplace=True)\n",
    "\n",
    "features_names = ['gender','age','hypertension','heart_disease','bmi','smoking_status']\n",
    "target_names = 'stroke'\n",
    "\n",
    "target = dataset[target_names]\n",
    "feature = dataset[features_names]\n",
    "\n",
    "print(target.shape)\n",
    "print(feature.shape)\n",
    "\n",
    "print (target.value_counts())\n"
   ]
  },
  {
   "cell_type": "code",
   "execution_count": 134,
   "metadata": {},
   "outputs": [],
   "source": [
    "X_train, X_test, y_train, y_test = train_test_split(\n",
    "    feature,target,\n",
    "    test_size=0.2,\n",
    "    random_state=np.random.randint(10))"
   ]
  },
  {
   "cell_type": "code",
   "execution_count": 135,
   "metadata": {},
   "outputs": [],
   "source": [
    "batch_size = 32\n",
    "X_train=np.asarray(X_train).astype(float)\n",
    "y_train=np.asarray(y_train).astype(float)\n",
    "\n",
    "train_dataset = tf.data.Dataset.from_tensor_slices((X_train,y_train)).batch(batch_size)\n",
    "\n",
    "X_test=np.asarray(X_test).astype(float)\n",
    "y_test=np.asarray(y_test).astype(float)\n",
    "\n",
    "test_dataset = tf.data.Dataset.from_tensor_slices((X_test,y_test)).batch(batch_size)"
   ]
  },
  {
   "cell_type": "code",
   "execution_count": 136,
   "metadata": {},
   "outputs": [
    {
     "name": "stdout",
     "output_type": "stream",
     "text": [
      "Model: \"stroke_model\"\n",
      "_________________________________________________________________\n",
      " Layer (type)                Output Shape              Param #   \n",
      "=================================================================\n",
      " input_14 (InputLayer)       [(None, 6)]               0         \n",
      "                                                                 \n",
      " dense_44 (Dense)            (None, 13)                91        \n",
      "                                                                 \n",
      " dense_45 (Dense)            (None, 6)                 84        \n",
      "                                                                 \n",
      " dense_46 (Dense)            (None, 2)                 14        \n",
      "                                                                 \n",
      "=================================================================\n",
      "Total params: 189\n",
      "Trainable params: 189\n",
      "Non-trainable params: 0\n",
      "_________________________________________________________________\n"
     ]
    }
   ],
   "source": [
    "from tensorflow import keras\n",
    "\n",
    "inputs = keras.Input(shape=(6,))\n",
    "h1 = keras.layers.Dense(13,activation=tf.nn.relu)(inputs)\n",
    "h2 = keras.layers.Dense(6,activation=tf.nn.relu)(h1)\n",
    "outputs = keras.layers.Dense(2)(h2)\n",
    "model = keras.Model(inputs=inputs, outputs=outputs, name=\"stroke_model\")\n",
    "\n",
    "model.summary()"
   ]
  },
  {
   "cell_type": "code",
   "execution_count": 137,
   "metadata": {},
   "outputs": [],
   "source": [
    "loss_object = tf.keras.losses.SparseCategoricalCrossentropy(from_logits=True)\n"
   ]
  },
  {
   "cell_type": "code",
   "execution_count": 138,
   "metadata": {},
   "outputs": [
    {
     "name": "stdout",
     "output_type": "stream",
     "text": [
      "Prediction: [1 1 1 1 1 1 1 1 1 1 1 1 1 1 1 1 1 1 1 1 1 1 1 1 1 1 1 1 1 1 1 1]\n",
      "    Labels: [1. 1. 0. 1. 0. 0. 1. 0. 0. 1. 0. 1. 1. 0. 0. 0. 0. 1. 0. 1. 0. 0. 0. 1.\n",
      " 0. 0. 1. 1. 0. 0. 1. 1.]\n"
     ]
    }
   ],
   "source": [
    "next_batch_dataset = next(iter(train_dataset))\n",
    "features,labels = next_batch_dataset\n",
    "predictions = model(features)\n",
    "\n",
    "print(f\"Prediction: {tf.argmax(predictions, axis=1)}\")\n",
    "print(f\"    Labels: {labels}\")"
   ]
  },
  {
   "cell_type": "code",
   "execution_count": 139,
   "metadata": {},
   "outputs": [
    {
     "name": "stdout",
     "output_type": "stream",
     "text": [
      "Loss test: 5.856122970581055\n"
     ]
    }
   ],
   "source": [
    "def loss(model, x, y, training):\n",
    "  y_ = model(x, training=training)\n",
    "\n",
    "  return loss_object(y_true=y, y_pred=y_)\n",
    "\n",
    "l = loss(model, features, labels, training=False)\n",
    "print(f\"Loss test: {l}\")"
   ]
  },
  {
   "cell_type": "code",
   "execution_count": 140,
   "metadata": {},
   "outputs": [],
   "source": [
    "def grad(model, inputs, targets):\n",
    "  with tf.GradientTape() as tape:\n",
    "    loss_value = loss(model, inputs, targets, training=True)\n",
    "  return loss_value, tape.gradient(loss_value, model.trainable_variables)\n",
    "\n",
    "optimizer = tf.keras.optimizers.SGD(learning_rate=0.01)"
   ]
  },
  {
   "cell_type": "code",
   "execution_count": 141,
   "metadata": {},
   "outputs": [
    {
     "name": "stdout",
     "output_type": "stream",
     "text": [
      "Step: 0, Initial Loss: 5.856122970581055\n",
      "Step: 1, Loss: 22.691951751708984\n"
     ]
    }
   ],
   "source": [
    "loss_value, grads = grad(model, features, labels)\n",
    "\n",
    "print(f\"Step: {optimizer.iterations.numpy()}, Initial Loss: {loss_value.numpy()}\")\n",
    "\n",
    "optimizer.apply_gradients(zip(grads, model.trainable_variables))\n",
    "print(f\"Step: {optimizer.iterations.numpy()}, Loss: {loss(model, features, labels, training=True).numpy()}\")\n",
    "\n"
   ]
  },
  {
   "cell_type": "code",
   "execution_count": 142,
   "metadata": {},
   "outputs": [
    {
     "name": "stdout",
     "output_type": "stream",
     "text": [
      "Epoch 000: Loss: 1.677, Accuracy: 72.331%\n",
      "Epoch 001: Loss: 0.547, Accuracy: 77.388%\n",
      "Epoch 002: Loss: 0.523, Accuracy: 77.809%\n",
      "Epoch 003: Loss: 0.514, Accuracy: 77.949%\n",
      "Epoch 004: Loss: 0.508, Accuracy: 78.090%\n",
      "Epoch 005: Loss: 0.504, Accuracy: 78.230%\n",
      "Epoch 006: Loss: 0.501, Accuracy: 78.511%\n",
      "Epoch 007: Loss: 0.498, Accuracy: 78.652%\n",
      "Epoch 008: Loss: 0.497, Accuracy: 78.652%\n",
      "Epoch 009: Loss: 0.495, Accuracy: 78.652%\n",
      "Epoch 010: Loss: 0.493, Accuracy: 78.652%\n",
      "Epoch 011: Loss: 0.492, Accuracy: 78.371%\n",
      "Epoch 012: Loss: 0.491, Accuracy: 78.792%\n",
      "Epoch 013: Loss: 0.489, Accuracy: 79.213%\n",
      "Epoch 014: Loss: 0.487, Accuracy: 79.635%\n",
      "Epoch 015: Loss: 0.486, Accuracy: 79.354%\n",
      "Epoch 016: Loss: 0.485, Accuracy: 79.354%\n",
      "Epoch 017: Loss: 0.484, Accuracy: 79.354%\n",
      "Epoch 018: Loss: 0.484, Accuracy: 79.354%\n",
      "Epoch 019: Loss: 0.483, Accuracy: 79.354%\n",
      "Epoch 020: Loss: 0.483, Accuracy: 79.354%\n",
      "Epoch 021: Loss: 0.483, Accuracy: 79.494%\n",
      "Epoch 022: Loss: 0.482, Accuracy: 79.354%\n",
      "Epoch 023: Loss: 0.482, Accuracy: 79.494%\n",
      "Epoch 024: Loss: 0.481, Accuracy: 79.635%\n",
      "Epoch 025: Loss: 0.481, Accuracy: 79.494%\n",
      "Epoch 026: Loss: 0.480, Accuracy: 79.635%\n",
      "Epoch 027: Loss: 0.480, Accuracy: 79.775%\n",
      "Epoch 028: Loss: 0.480, Accuracy: 79.494%\n",
      "Epoch 029: Loss: 0.479, Accuracy: 79.494%\n",
      "Epoch 030: Loss: 0.479, Accuracy: 79.354%\n",
      "Epoch 031: Loss: 0.479, Accuracy: 79.494%\n",
      "Epoch 032: Loss: 0.478, Accuracy: 79.354%\n",
      "Epoch 033: Loss: 0.478, Accuracy: 79.494%\n",
      "Epoch 034: Loss: 0.478, Accuracy: 79.494%\n",
      "Epoch 035: Loss: 0.477, Accuracy: 79.073%\n",
      "Epoch 036: Loss: 0.477, Accuracy: 79.635%\n",
      "Epoch 037: Loss: 0.477, Accuracy: 79.213%\n",
      "Epoch 038: Loss: 0.476, Accuracy: 79.073%\n",
      "Epoch 039: Loss: 0.476, Accuracy: 79.213%\n",
      "Epoch 040: Loss: 0.476, Accuracy: 79.494%\n",
      "Epoch 041: Loss: 0.475, Accuracy: 79.494%\n",
      "Epoch 042: Loss: 0.475, Accuracy: 79.494%\n",
      "Epoch 043: Loss: 0.475, Accuracy: 79.494%\n",
      "Epoch 044: Loss: 0.474, Accuracy: 79.354%\n",
      "Epoch 045: Loss: 0.474, Accuracy: 79.775%\n",
      "Epoch 046: Loss: 0.474, Accuracy: 79.775%\n",
      "Epoch 047: Loss: 0.473, Accuracy: 79.775%\n",
      "Epoch 048: Loss: 0.473, Accuracy: 79.916%\n",
      "Epoch 049: Loss: 0.473, Accuracy: 79.916%\n",
      "Epoch 050: Loss: 0.473, Accuracy: 80.056%\n",
      "Epoch 051: Loss: 0.472, Accuracy: 80.056%\n",
      "Epoch 052: Loss: 0.472, Accuracy: 80.056%\n",
      "Epoch 053: Loss: 0.472, Accuracy: 79.916%\n",
      "Epoch 054: Loss: 0.471, Accuracy: 79.775%\n",
      "Epoch 055: Loss: 0.471, Accuracy: 79.916%\n",
      "Epoch 056: Loss: 0.471, Accuracy: 79.775%\n",
      "Epoch 057: Loss: 0.470, Accuracy: 79.916%\n",
      "Epoch 058: Loss: 0.470, Accuracy: 79.775%\n",
      "Epoch 059: Loss: 0.470, Accuracy: 79.916%\n",
      "Epoch 060: Loss: 0.470, Accuracy: 79.916%\n",
      "Epoch 061: Loss: 0.469, Accuracy: 79.916%\n",
      "Epoch 062: Loss: 0.469, Accuracy: 79.916%\n",
      "Epoch 063: Loss: 0.469, Accuracy: 79.916%\n",
      "Epoch 064: Loss: 0.469, Accuracy: 79.916%\n",
      "Epoch 065: Loss: 0.468, Accuracy: 79.916%\n",
      "Epoch 066: Loss: 0.468, Accuracy: 80.056%\n",
      "Epoch 067: Loss: 0.468, Accuracy: 80.056%\n",
      "Epoch 068: Loss: 0.467, Accuracy: 79.916%\n",
      "Epoch 069: Loss: 0.467, Accuracy: 79.916%\n",
      "Epoch 070: Loss: 0.467, Accuracy: 80.197%\n",
      "Epoch 071: Loss: 0.467, Accuracy: 80.056%\n",
      "Epoch 072: Loss: 0.466, Accuracy: 80.056%\n",
      "Epoch 073: Loss: 0.466, Accuracy: 80.197%\n",
      "Epoch 074: Loss: 0.466, Accuracy: 80.056%\n",
      "Epoch 075: Loss: 0.466, Accuracy: 80.056%\n",
      "Epoch 076: Loss: 0.465, Accuracy: 80.197%\n",
      "Epoch 077: Loss: 0.465, Accuracy: 80.197%\n",
      "Epoch 078: Loss: 0.465, Accuracy: 80.056%\n",
      "Epoch 079: Loss: 0.465, Accuracy: 80.056%\n",
      "Epoch 080: Loss: 0.464, Accuracy: 79.916%\n",
      "Epoch 081: Loss: 0.464, Accuracy: 80.056%\n",
      "Epoch 082: Loss: 0.464, Accuracy: 79.916%\n",
      "Epoch 083: Loss: 0.464, Accuracy: 79.916%\n",
      "Epoch 084: Loss: 0.463, Accuracy: 79.916%\n",
      "Epoch 085: Loss: 0.463, Accuracy: 79.775%\n",
      "Epoch 086: Loss: 0.463, Accuracy: 80.056%\n",
      "Epoch 087: Loss: 0.463, Accuracy: 80.197%\n",
      "Epoch 088: Loss: 0.462, Accuracy: 79.775%\n",
      "Epoch 089: Loss: 0.462, Accuracy: 79.916%\n",
      "Epoch 090: Loss: 0.462, Accuracy: 79.635%\n",
      "Epoch 091: Loss: 0.462, Accuracy: 80.056%\n",
      "Epoch 092: Loss: 0.462, Accuracy: 79.916%\n",
      "Epoch 093: Loss: 0.461, Accuracy: 79.916%\n",
      "Epoch 094: Loss: 0.461, Accuracy: 79.916%\n",
      "Epoch 095: Loss: 0.461, Accuracy: 79.916%\n",
      "Epoch 096: Loss: 0.461, Accuracy: 80.056%\n",
      "Epoch 097: Loss: 0.460, Accuracy: 80.197%\n",
      "Epoch 098: Loss: 0.460, Accuracy: 80.197%\n",
      "Epoch 099: Loss: 0.460, Accuracy: 80.197%\n"
     ]
    }
   ],
   "source": [
    "train_loss_results = []\n",
    "train_accuracy_results = []\n",
    "\n",
    "num_epochs = 100\n",
    "\n",
    "for epoch in range(num_epochs):\n",
    "    epoch_loss_avg = tf.keras.metrics.Mean()\n",
    "    epoch_accuracy = tf.keras.metrics.SparseCategoricalAccuracy()\n",
    "\n",
    "    for x, y in train_dataset:\n",
    "        loss_value, grads = grad(model, x, y)\n",
    "        optimizer.apply_gradients(zip(grads, model.trainable_variables))\n",
    "\n",
    "        # Track progress\n",
    "        epoch_loss_avg.update_state(loss_value)  \n",
    "        epoch_accuracy.update_state(y, model(x, training=True))\n",
    "\n",
    "    train_loss_results.append(epoch_loss_avg.result())\n",
    "    train_accuracy_results.append(epoch_accuracy.result())\n",
    "\n",
    "\n",
    "    print(f\"Epoch {epoch:03d}: Loss: {epoch_loss_avg.result():.3f}, Accuracy: {epoch_accuracy.result():.3%}\")"
   ]
  },
  {
   "cell_type": "code",
   "execution_count": 143,
   "metadata": {},
   "outputs": [
    {
     "data": {
      "image/png": "[encoded data removed]",
      "text/plain": [
       "<Figure size 1200x800 with 2 Axes>"
      ]
     },
     "metadata": {},
     "output_type": "display_data"
    }
   ],
   "source": [
    "fig, axes = plt.subplots(2, sharex=True, figsize=(12, 8))\n",
    "fig.suptitle('Training Metrics')\n",
    "\n",
    "axes[0].set_ylabel(\"Loss\", fontsize=14)\n",
    "axes[0].plot(train_loss_results)\n",
    "\n",
    "\n",
    "axes[1].set_ylabel(\"Accuracy\", fontsize=14)\n",
    "axes[1].set_xlabel(\"Epoch\", fontsize=14)\n",
    "axes[1].plot(train_accuracy_results)\n",
    "plt.show()\n",
    "\n"
   ]
  },
  {
   "cell_type": "code",
   "execution_count": 144,
   "metadata": {},
   "outputs": [
    {
     "name": "stdout",
     "output_type": "stream",
     "text": [
      "Test set accuracy: 79.330%\n"
     ]
    }
   ],
   "source": [
    "test_accuracy = tf.keras.metrics.Accuracy()\n",
    "\n",
    "for (x, y) in test_dataset:\n",
    "  logits = model(x, training=False)\n",
    "  prediction = tf.argmax(logits, axis=1, output_type=tf.int32)\n",
    "  test_accuracy(prediction, y)\n",
    "\n",
    "print(f\"Test set accuracy: {test_accuracy.result():.3%}\")"
   ]
  },
  {
   "cell_type": "code",
   "execution_count": 147,
   "metadata": {},
   "outputs": [
    {
     "name": "stdout",
     "output_type": "stream",
     "text": [
      "tf.Tensor([[ 1. 50.  1.  1. 50.  1.]], shape=(1, 6), dtype=float32)\n",
      "tf.Tensor([ -7.593065 -11.031267], shape=(2,), dtype=float32)\n"
     ]
    },
    {
     "name": "stderr",
     "output_type": "stream",
     "text": [
      "2022-11-11 10:53:15.289642: I tensorflow/core/grappler/optimizers/custom_graph_optimizer_registry.cc:114] Plugin optimizer for device_type GPU is enabled.\n"
     ]
    }
   ],
   "source": [
    "stroke_model = tf.saved_model.load('./model')\n",
    "\n",
    "content = [[1,50,1,1,50,1]]\n",
    "predict_dataset = tf.convert_to_tensor(content,dtype=tf.float32)\n",
    "print(predict_dataset)\n",
    "predictions = stroke_model(predict_dataset, training=False)\n",
    "print(predictions[0])"
   ]
  },
  {
   "cell_type": "code",
   "execution_count": 146,
   "metadata": {},
   "outputs": [
    {
     "name": "stdout",
     "output_type": "stream",
     "text": [
      "WARNING:tensorflow:Compiled the loaded model, but the compiled metrics have yet to be built. `model.compile_metrics` will be empty until you train or evaluate the model.\n",
      "INFO:tensorflow:Assets written to: ./model/assets\n"
     ]
    }
   ],
   "source": [
    "model.save('./model',overwrite=True)"
   ]
  },
  {
   "cell_type": "code",
   "execution_count": 100,
   "metadata": {},
   "outputs": [],
   "source": [
    "model = Sequential()\n",
    "\n",
    "model.add(Dense(3, input_shape=(10,), activation='relu'))\n",
    "model.add(Dense(7, activation='relu'))\n",
    "model.add(Dense(5, activation='relu'))\n",
    "model.add(Dense(3, activation='relu'))\n",
    "model.add(Dense(1, activation='sigmoid'))\n",
    "\n",
    "model.compile(loss='binary_crossentropy', optimizer='adam', metrics=['accuracy'])"
   ]
  }
 ],
 "metadata": {
  "kernelspec": {
   "display_name": "Python 3.10.6 64-bit ('base')",
   "language": "python",
   "name": "python3"
  },
  "language_info": {
   "codemirror_mode": {
    "name": "ipython",
    "version": 3
   },
   "file_extension": ".py",
   "mimetype": "text/x-python",
   "name": "python",
   "nbconvert_exporter": "python",
   "pygments_lexer": "ipython3",
   "version": "3.10.6"
  },
  "orig_nbformat": 4,
  "vscode": {
   "interpreter": {
    "hash": "938a2eca074a36248bdb68886086f7cc87a729117bfdcf0569ed487556fb7fd5"
   }
  }
 },
 "nbformat": 4,
 "nbformat_minor": 2
}
