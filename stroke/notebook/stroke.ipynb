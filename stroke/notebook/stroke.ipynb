{
 "cells": [
  {
   "cell_type": "code",
   "execution_count": 39,
   "metadata": {},
   "outputs": [],
   "source": [
    "import tensorflow as tf\n",
    "from tensorflow import keras\n",
    "import matplotlib.pyplot as plt\n",
    "from sklearn.model_selection import train_test_split\n",
    "import numpy as np\n",
    "import pandas as pd"
   ]
  },
  {
   "cell_type": "code",
   "execution_count": 40,
   "metadata": {},
   "outputs": [
    {
     "name": "stdout",
     "output_type": "stream",
     "text": [
      "(891,)\n",
      "(891, 3)\n",
      "0    682\n",
      "1    209\n",
      "Name: stroke, dtype: int64\n"
     ]
    }
   ],
   "source": [
    "dataset = pd.read_csv('../dataset/healthcare-dataset-stroke-data.csv')\n",
    "\n",
    "dataset.replace( {'Male': 0,'Female':1, 'No': 0, 'Yes': 1, 'Private': 0, 'Self-employed': 1, 'Govt_job': 2, 'children': 3, 'Never_worked': 4 }, inplace=True)\n",
    "dataset.replace( {'Urban': 0, 'Rural': 1, 'formerly smoked': 1, 'never smoked': 0, 'smokes': 2, 'Unknown': 4 }, inplace=True)\n",
    "dataset.drop(['smoking_status','Residence_type','ever_married','work_type','hypertension','heart_disease','avg_glucose_level'], axis=1,inplace=True)\n",
    "dataset.dropna(inplace=True)\n",
    "\n",
    "features_names = ['gender','age','bmi' ]\n",
    "target_names = 'stroke'\n",
    "\n",
    "target = dataset[target_names]\n",
    "feature = dataset[features_names]\n",
    "\n",
    "print(target.shape)\n",
    "print(feature.shape)\n",
    "\n",
    "print (target.value_counts())\n"
   ]
  },
  {
   "cell_type": "code",
   "execution_count": 29,
   "metadata": {},
   "outputs": [],
   "source": [
    "X_train, X_test, y_train, y_test = train_test_split(\n",
    "    feature,target,\n",
    "    test_size=0.2,\n",
    "    random_state=np.random.randint(10))"
   ]
  },
  {
   "cell_type": "code",
   "execution_count": 18,
   "metadata": {},
   "outputs": [],
   "source": [
    "batch_size = 32\n",
    "X_train=np.asarray(X_train).astype(float)\n",
    "y_train=np.asarray(y_train).astype(float)\n",
    "\n",
    "train_dataset = tf.data.Dataset.from_tensor_slices((X_train,y_train)).batch(batch_size)\n",
    "\n",
    "X_test=np.asarray(X_test).astype(float)\n",
    "y_test=np.asarray(y_test).astype(float)\n",
    "\n",
    "test_dataset = tf.data.Dataset.from_tensor_slices((X_test,y_test)).batch(batch_size)"
   ]
  },
  {
   "cell_type": "code",
   "execution_count": 30,
   "metadata": {},
   "outputs": [
    {
     "name": "stdout",
     "output_type": "stream",
     "text": [
      "Model: \"stroke_model\"\n",
      "_________________________________________________________________\n",
      " Layer (type)                Output Shape              Param #   \n",
      "=================================================================\n",
      " input_3 (InputLayer)        [(None, 3)]               0         \n",
      "                                                                 \n",
      " dense_6 (Dense)             (None, 10)                40        \n",
      "                                                                 \n",
      " dense_7 (Dense)             (None, 3)                 33        \n",
      "                                                                 \n",
      " dense_8 (Dense)             (None, 2)                 8         \n",
      "                                                                 \n",
      "=================================================================\n",
      "Total params: 81\n",
      "Trainable params: 81\n",
      "Non-trainable params: 0\n",
      "_________________________________________________________________\n"
     ]
    }
   ],
   "source": [
    "from tensorflow import keras\n",
    "\n",
    "inputs = keras.Input(shape=(3,))\n",
    "h1 = keras.layers.Dense(10,activation=tf.nn.sigmoid)(inputs)\n",
    "h2 = keras.layers.Dense(3,activation=tf.nn.sigmoid)(h1)\n",
    "outputs = keras.layers.Dense(2)(h2)\n",
    "model = keras.Model(inputs=inputs, outputs=outputs, name=\"stroke_model\")\n",
    "\n",
    "model.summary()"
   ]
  },
  {
   "cell_type": "code",
   "execution_count": 31,
   "metadata": {},
   "outputs": [],
   "source": [
    "loss_object = tf.keras.losses.SparseCategoricalCrossentropy(from_logits=True)\n"
   ]
  },
  {
   "cell_type": "code",
   "execution_count": 32,
   "metadata": {},
   "outputs": [
    {
     "name": "stdout",
     "output_type": "stream",
     "text": [
      "Prediction: [1 1 1 1 1 1 1 1 1 1 1 1 1 1 1 1 1 1 1 1 1 1 1 1 1 1 1 1 1 1 1 1]\n",
      "    Labels: [1. 1. 0. 0. 0. 0. 0. 0. 0. 0. 0. 1. 1. 0. 0. 1. 0. 0. 0. 0. 0. 0. 0. 0.\n",
      " 0. 1. 0. 1. 0. 0. 0. 0.]\n"
     ]
    }
   ],
   "source": [
    "next_batch_dataset = next(iter(train_dataset))\n",
    "features,labels = next_batch_dataset\n",
    "predictions = model(features)\n",
    "\n",
    "print(f\"Prediction: {tf.argmax(predictions, axis=1)}\")\n",
    "print(f\"    Labels: {labels}\")"
   ]
  },
  {
   "cell_type": "code",
   "execution_count": 33,
   "metadata": {},
   "outputs": [
    {
     "name": "stdout",
     "output_type": "stream",
     "text": [
      "Loss test: 0.8606125116348267\n"
     ]
    }
   ],
   "source": [
    "def loss(model, x, y, training):\n",
    "  y_ = model(x, training=training)\n",
    "\n",
    "  return loss_object(y_true=y, y_pred=y_)\n",
    "\n",
    "l = loss(model, features, labels, training=False)\n",
    "print(f\"Loss test: {l}\")"
   ]
  },
  {
   "cell_type": "code",
   "execution_count": 21,
   "metadata": {},
   "outputs": [],
   "source": [
    "def grad(model, inputs, targets):\n",
    "  with tf.GradientTape() as tape:\n",
    "    loss_value = loss(model, inputs, targets, training=True)\n",
    "  return loss_value, tape.gradient(loss_value, model.trainable_variables)\n",
    "\n",
    "optimizer = tf.keras.optimizers.SGD(learning_rate=0.01)"
   ]
  },
  {
   "cell_type": "code",
   "execution_count": 22,
   "metadata": {},
   "outputs": [
    {
     "name": "stdout",
     "output_type": "stream",
     "text": [
      "Step: 0, Initial Loss: 0.9054644107818604\n",
      "Step: 1, Loss: 0.900534987449646\n"
     ]
    }
   ],
   "source": [
    "loss_value, grads = grad(model, features, labels)\n",
    "\n",
    "print(f\"Step: {optimizer.iterations.numpy()}, Initial Loss: {loss_value.numpy()}\")\n",
    "\n",
    "optimizer.apply_gradients(zip(grads, model.trainable_variables))\n",
    "print(f\"Step: {optimizer.iterations.numpy()}, Loss: {loss(model, features, labels, training=True).numpy()}\")\n",
    "\n"
   ]
  },
  {
   "cell_type": "code",
   "execution_count": 34,
   "metadata": {},
   "outputs": [
    {
     "name": "stdout",
     "output_type": "stream",
     "text": [
      "Epoch 000: Loss: 0.802, Accuracy: 21.770%\n",
      "Epoch 001: Loss: 0.691, Accuracy: 58.567%\n",
      "Epoch 002: Loss: 0.627, Accuracy: 73.174%\n",
      "Epoch 003: Loss: 0.588, Accuracy: 78.230%\n",
      "Epoch 004: Loss: 0.562, Accuracy: 78.230%\n",
      "Epoch 005: Loss: 0.545, Accuracy: 78.230%\n",
      "Epoch 006: Loss: 0.534, Accuracy: 78.230%\n",
      "Epoch 007: Loss: 0.526, Accuracy: 78.230%\n",
      "Epoch 008: Loss: 0.520, Accuracy: 78.230%\n",
      "Epoch 009: Loss: 0.517, Accuracy: 78.230%\n"
     ]
    }
   ],
   "source": [
    "train_loss_results = []\n",
    "train_accuracy_results = []\n",
    "\n",
    "num_epochs = 10\n",
    "\n",
    "for epoch in range(num_epochs):\n",
    "    epoch_loss_avg = tf.keras.metrics.Mean()\n",
    "    epoch_accuracy = tf.keras.metrics.SparseCategoricalAccuracy()\n",
    "\n",
    "    for x, y in train_dataset:\n",
    "        loss_value, grads = grad(model, x, y)\n",
    "        optimizer.apply_gradients(zip(grads, model.trainable_variables))\n",
    "\n",
    "        # Track progress\n",
    "        epoch_loss_avg.update_state(loss_value)  \n",
    "        epoch_accuracy.update_state(y, model(x, training=True))\n",
    "\n",
    "    train_loss_results.append(epoch_loss_avg.result())\n",
    "    train_accuracy_results.append(epoch_accuracy.result())\n",
    "\n",
    "\n",
    "    print(f\"Epoch {epoch:03d}: Loss: {epoch_loss_avg.result():.3f}, Accuracy: {epoch_accuracy.result():.3%}\")"
   ]
  },
  {
   "cell_type": "code",
   "execution_count": 43,
   "metadata": {},
   "outputs": [
    {
     "data": {
      "image/png": "[encoded data removed]",
      "text/plain": [
       "<Figure size 1200x800 with 2 Axes>"
      ]
     },
     "metadata": {},
     "output_type": "display_data"
    }
   ],
   "source": [
    "fig, axes = plt.subplots(2, sharex=True, figsize=(12, 8))\n",
    "fig.suptitle('Training Metrics')\n",
    "\n",
    "axes[0].set_ylabel(\"Loss\", fontsize=14)\n",
    "axes[0].plot(train_loss_results)\n",
    "\n",
    "\n",
    "axes[1].set_ylabel(\"Accuracy\", fontsize=14)\n",
    "axes[1].set_xlabel(\"Epoch\", fontsize=14)\n",
    "axes[1].plot(train_accuracy_results)\n",
    "plt.show()\n",
    "\n"
   ]
  },
  {
   "cell_type": "code",
   "execution_count": 36,
   "metadata": {},
   "outputs": [
    {
     "name": "stdout",
     "output_type": "stream",
     "text": [
      "Test set accuracy: 69.832%\n"
     ]
    }
   ],
   "source": [
    "test_accuracy = tf.keras.metrics.Accuracy()\n",
    "\n",
    "for (x, y) in test_dataset:\n",
    "  logits = model(x, training=False)\n",
    "  prediction = tf.argmax(logits, axis=1, output_type=tf.int32)\n",
    "  test_accuracy(prediction, y)\n",
    "\n",
    "print(f\"Test set accuracy: {test_accuracy.result():.3%}\")"
   ]
  },
  {
   "cell_type": "code",
   "execution_count": 37,
   "metadata": {},
   "outputs": [
    {
     "name": "stdout",
     "output_type": "stream",
     "text": [
      "WARNING:tensorflow:Compiled the loaded model, but the compiled metrics have yet to be built. `model.compile_metrics` will be empty until you train or evaluate the model.\n",
      "INFO:tensorflow:Assets written to: ./model/assets\n"
     ]
    }
   ],
   "source": [
    "model.save('./model',overwrite=True)"
   ]
  }
 ],
 "metadata": {
  "kernelspec": {
   "display_name": "Python 3.10.6 64-bit ('base')",
   "language": "python",
   "name": "python3"
  },
  "language_info": {
   "codemirror_mode": {
    "name": "ipython",
    "version": 3
   },
   "file_extension": ".py",
   "mimetype": "text/x-python",
   "name": "python",
   "nbconvert_exporter": "python",
   "pygments_lexer": "ipython3",
   "version": "3.10.6"
  },
  "orig_nbformat": 4,
  "vscode": {
   "interpreter": {
    "hash": "938a2eca074a36248bdb68886086f7cc87a729117bfdcf0569ed487556fb7fd5"
   }
  }
 },
 "nbformat": 4,
 "nbformat_minor": 2
}
