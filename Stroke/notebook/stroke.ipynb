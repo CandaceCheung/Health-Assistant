{
 "cells": [
  {
   "cell_type": "code",
<<<<<<< HEAD
   "execution_count": 46,
=======
   "execution_count": 1,
>>>>>>> 37fbd6befc32c3711cef1cdcd8cbfb3029a4a5e8
   "metadata": {},
   "outputs": [],
   "source": [
    "import tensorflow as tf\n",
    "from tensorflow import keras\n",
    "import matplotlib.pyplot as plt\n",
    "from sklearn.model_selection import train_test_split\n",
    "import numpy as np\n",
    "import pandas as pd"
   ]
  },
  {
   "cell_type": "code",
<<<<<<< HEAD
   "execution_count": 72,
=======
   "execution_count": 2,
>>>>>>> 37fbd6befc32c3711cef1cdcd8cbfb3029a4a5e8
   "metadata": {},
   "outputs": [
    {
     "name": "stdout",
     "output_type": "stream",
     "text": [
      "(891,)\n",
      "(891, 3)\n"
     ]
    }
   ],
   "source": [
    "dataset = pd.read_csv('../dataset/healthcare-dataset-stroke-data.csv')\n",
    "\n",
    "dataset.replace( {'Male': 0,'Female':1, 'No': 0, 'Yes': 1, 'Private': 0, 'Self-employed': 1, 'Govt_job': 2, 'children': 3, 'Never_worked': 4 }, inplace=True)\n",
    "dataset.replace( {'Urban': 0, 'Rural': 1, 'formerly smoked': 1, 'never smoked': 0, 'smokes': 2, 'Unknown': 4 }, inplace=True)\n",
    "dataset.drop(['smoking_status','Residence_type','ever_married','work_type','hypertension','heart_disease','avg_glucose_level'], axis=1,inplace=True)\n",
    "dataset.dropna(inplace=True)\n",
    "\n",
    "features_names = ['gender','age','bmi' ]\n",
    "target_names = 'stroke'\n",
    "\n",
    "target = dataset[target_names]\n",
    "feature = dataset[features_names]\n",
    "\n",
    "print(target.shape)\n",
    "print(feature.shape)\n"
   ]
  },
  {
   "cell_type": "code",
   "execution_count": 73,
   "metadata": {},
   "outputs": [],
   "source": [
    "X_train, X_test, y_train, y_test = train_test_split(\n",
    "    feature,target,\n",
    "    test_size=0.2,\n",
    "    random_state=np.random.randint(10))"
   ]
  },
  {
   "cell_type": "code",
<<<<<<< HEAD
   "execution_count": 74,
=======
   "execution_count": 3,
>>>>>>> 37fbd6befc32c3711cef1cdcd8cbfb3029a4a5e8
   "metadata": {},
   "outputs": [
    {
     "ename": "NameError",
     "evalue": "name 'X_train' is not defined",
     "output_type": "error",
     "traceback": [
      "\u001b[0;31m---------------------------------------------------------------------------\u001b[0m",
      "\u001b[0;31mNameError\u001b[0m                                 Traceback (most recent call last)",
      "Cell \u001b[0;32mIn [3], line 2\u001b[0m\n\u001b[1;32m      1\u001b[0m batch_size \u001b[39m=\u001b[39m \u001b[39m32\u001b[39m\n\u001b[0;32m----> 2\u001b[0m X_train\u001b[39m=\u001b[39mnp\u001b[39m.\u001b[39masarray(X_train)\u001b[39m.\u001b[39mastype(\u001b[39mfloat\u001b[39m)\n\u001b[1;32m      3\u001b[0m y_train\u001b[39m=\u001b[39mnp\u001b[39m.\u001b[39masarray(y_train)\u001b[39m.\u001b[39mastype(\u001b[39mfloat\u001b[39m)\n\u001b[1;32m      5\u001b[0m train_dataset \u001b[39m=\u001b[39m tf\u001b[39m.\u001b[39mdata\u001b[39m.\u001b[39mDataset\u001b[39m.\u001b[39mfrom_tensor_slices((X_train,y_train))\u001b[39m.\u001b[39mbatch(batch_size)\n",
      "\u001b[0;31mNameError\u001b[0m: name 'X_train' is not defined"
     ]
    }
   ],
   "source": [
    "batch_size = 32\n",
    "X_train=np.asarray(X_train).astype(float)\n",
    "y_train=np.asarray(y_train).astype(float)\n",
    "\n",
    "train_dataset = tf.data.Dataset.from_tensor_slices((X_train,y_train)).batch(batch_size)\n",
    "\n",
    "X_test=np.asarray(X_test).astype(float)\n",
    "y_test=np.asarray(y_test).astype(float)\n",
    "\n",
    "test_dataset = tf.data.Dataset.from_tensor_slices((X_test,y_test)).batch(batch_size)"
   ]
  },
  {
   "cell_type": "code",
   "execution_count": 81,
   "metadata": {},
   "outputs": [
    {
     "name": "stdout",
     "output_type": "stream",
     "text": [
      "Model: \"stroke_model\"\n",
      "_________________________________________________________________\n",
      " Layer (type)                Output Shape              Param #   \n",
      "=================================================================\n",
      " input_10 (InputLayer)       [(None, 3)]               0         \n",
      "                                                                 \n",
      " dense_27 (Dense)            (None, 10)                40        \n",
      "                                                                 \n",
      " dense_28 (Dense)            (None, 3)                 33        \n",
      "                                                                 \n",
      " dense_29 (Dense)            (None, 2)                 8         \n",
      "                                                                 \n",
      "=================================================================\n",
      "Total params: 81\n",
      "Trainable params: 81\n",
      "Non-trainable params: 0\n",
      "_________________________________________________________________\n"
     ]
    }
   ],
   "source": [
    "from tensorflow import keras\n",
    "\n",
    "inputs = keras.Input(shape=(3,))\n",
    "h1 = keras.layers.Dense(10,activation=tf.nn.sigmoid)(inputs)\n",
    "h2 = keras.layers.Dense(3,activation=tf.nn.sigmoid)(h1)\n",
    "outputs = keras.layers.Dense(2)(h2)\n",
    "model = keras.Model(inputs=inputs, outputs=outputs, name=\"stroke_model\")\n",
    "\n",
    "model.summary()"
   ]
  },
  {
   "cell_type": "code",
   "execution_count": 82,
   "metadata": {},
   "outputs": [],
   "source": [
    "loss_object = tf.keras.losses.SparseCategoricalCrossentropy(from_logits=True)\n"
   ]
  },
  {
   "cell_type": "code",
   "execution_count": 83,
   "metadata": {},
   "outputs": [
    {
     "name": "stdout",
     "output_type": "stream",
     "text": [
      "Prediction: [0 0 0 0 0 0 0 0 0 0 0 0 0 0 0 0 0 0 0 0 0 0 0 0 0 0 0 0 0 0 0 0]\n",
      "    Labels: [1. 0. 0. 0. 0. 1. 1. 0. 0. 0. 0. 0. 1. 0. 0. 0. 0. 1. 0. 1. 0. 0. 0. 0.\n",
      " 0. 0. 1. 0. 0. 0. 1. 0.]\n"
     ]
    }
   ],
   "source": [
    "next_batch_dataset = next(iter(train_dataset))\n",
    "features,labels = next_batch_dataset\n",
    "predictions = model(features)\n",
    "\n",
    "print(f\"Prediction: {tf.argmax(predictions, axis=1)}\")\n",
    "print(f\"    Labels: {labels}\")"
   ]
  },
  {
   "cell_type": "code",
   "execution_count": 85,
   "metadata": {},
   "outputs": [
    {
     "name": "stdout",
     "output_type": "stream",
     "text": [
      "Loss test: 0.5833292007446289\n"
     ]
    }
   ],
   "source": [
    "def loss(model, x, y, training):\n",
    "  y_ = model(x, training=training)\n",
    "\n",
    "  return loss_object(y_true=y, y_pred=y_)\n",
    "\n",
    "l = loss(model, features, labels, training=False)\n",
    "print(f\"Loss test: {l}\")"
   ]
  },
  {
   "cell_type": "code",
   "execution_count": 86,
   "metadata": {},
   "outputs": [],
   "source": [
    "def grad(model, inputs, targets):\n",
    "  with tf.GradientTape() as tape:\n",
    "    loss_value = loss(model, inputs, targets, training=True)\n",
    "  return loss_value, tape.gradient(loss_value, model.trainable_variables)\n",
    "\n",
    "optimizer = tf.keras.optimizers.SGD(learning_rate=0.01)"
   ]
  },
  {
   "cell_type": "code",
   "execution_count": 87,
   "metadata": {},
   "outputs": [
    {
     "name": "stdout",
     "output_type": "stream",
     "text": [
      "Step: 0, Initial Loss: 0.5833292007446289\n",
      "Step: 1, Loss: 0.5829132795333862\n"
     ]
    }
   ],
   "source": [
    "loss_value, grads = grad(model, features, labels)\n",
    "\n",
    "print(f\"Step: {optimizer.iterations.numpy()}, Initial Loss: {loss_value.numpy()}\")\n",
    "\n",
    "optimizer.apply_gradients(zip(grads, model.trainable_variables))\n",
    "print(f\"Step: {optimizer.iterations.numpy()}, Loss: {loss(model, features, labels, training=True).numpy()}\")\n",
    "\n"
   ]
  },
  {
   "cell_type": "code",
   "execution_count": 88,
   "metadata": {},
   "outputs": [
    {
     "name": "stdout",
     "output_type": "stream",
     "text": [
      "Epoch 000: Loss: 0.574, Accuracy: 75.702%\n",
      "Epoch 001: Loss: 0.567, Accuracy: 75.702%\n",
      "Epoch 002: Loss: 0.563, Accuracy: 75.702%\n",
      "Epoch 003: Loss: 0.560, Accuracy: 75.702%\n",
      "Epoch 004: Loss: 0.558, Accuracy: 75.702%\n",
      "Epoch 005: Loss: 0.557, Accuracy: 75.702%\n",
      "Epoch 006: Loss: 0.556, Accuracy: 75.702%\n",
      "Epoch 007: Loss: 0.556, Accuracy: 75.702%\n",
      "Epoch 008: Loss: 0.555, Accuracy: 75.702%\n",
      "Epoch 009: Loss: 0.555, Accuracy: 75.702%\n"
     ]
    }
   ],
   "source": [
    "train_loss_results = []\n",
    "train_accuracy_results = []\n",
    "\n",
    "num_epochs = 10\n",
    "\n",
    "for epoch in range(num_epochs):\n",
    "    epoch_loss_avg = tf.keras.metrics.Mean()\n",
    "    epoch_accuracy = tf.keras.metrics.SparseCategoricalAccuracy()\n",
    "\n",
    "    for x, y in train_dataset:\n",
    "        loss_value, grads = grad(model, x, y)\n",
    "        optimizer.apply_gradients(zip(grads, model.trainable_variables))\n",
    "\n",
    "        # Track progress\n",
    "        epoch_loss_avg.update_state(loss_value)  \n",
    "        epoch_accuracy.update_state(y, model(x, training=True))\n",
    "\n",
    "    train_loss_results.append(epoch_loss_avg.result())\n",
    "    train_accuracy_results.append(epoch_accuracy.result())\n",
    "\n",
    "\n",
    "    print(f\"Epoch {epoch:03d}: Loss: {epoch_loss_avg.result():.3f}, Accuracy: {epoch_accuracy.result():.3%}\")"
   ]
  },
  {
   "cell_type": "code",
   "execution_count": 89,
   "metadata": {},
   "outputs": [
    {
     "data": {
      "image/png": "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",
      "text/plain": [
       "<Figure size 1200x800 with 2 Axes>"
      ]
     },
     "metadata": {},
     "output_type": "display_data"
    }
   ],
   "source": [
    "fig, axes = plt.subplots(2, sharex=True, figsize=(12, 8))\n",
    "fig.suptitle('Training Metrics')\n",
    "\n",
    "axes[0].set_ylabel(\"Loss\", fontsize=14)\n",
    "axes[0].plot(train_loss_results)\n",
    "\n",
    "axes[1].set_ylabel(\"Accuracy\", fontsize=14)\n",
    "axes[1].set_xlabel(\"Epoch\", fontsize=14)\n",
    "axes[1].plot(train_accuracy_results)\n",
    "plt.show()"
   ]
  },
  {
   "cell_type": "code",
   "execution_count": 90,
   "metadata": {},
   "outputs": [
    {
     "name": "stdout",
     "output_type": "stream",
     "text": [
      "Test set accuracy: 79.888%\n"
     ]
    }
   ],
   "source": [
    "test_accuracy = tf.keras.metrics.Accuracy()\n",
    "\n",
    "for (x, y) in test_dataset:\n",
    "  logits = model(x, training=False)\n",
    "  prediction = tf.argmax(logits, axis=1, output_type=tf.int32)\n",
    "  test_accuracy(prediction, y)\n",
    "\n",
    "print(f\"Test set accuracy: {test_accuracy.result():.3%}\")"
   ]
  },
  {
   "cell_type": "code",
   "execution_count": 91,
   "metadata": {},
   "outputs": [
    {
     "name": "stdout",
     "output_type": "stream",
     "text": [
      "WARNING:tensorflow:Compiled the loaded model, but the compiled metrics have yet to be built. `model.compile_metrics` will be empty until you train or evaluate the model.\n",
      "INFO:tensorflow:Assets written to: ./model/assets\n"
     ]
    }
   ],
   "source": [
    "model.save('./model',overwrite=True)"
   ]
  }
 ],
 "metadata": {
  "kernelspec": {
   "display_name": "Python 3.10.7 64-bit ('3.10.7')",
   "language": "python",
   "name": "python3"
  },
  "language_info": {
   "codemirror_mode": {
    "name": "ipython",
    "version": 3
   },
   "file_extension": ".py",
   "mimetype": "text/x-python",
   "name": "python",
   "nbconvert_exporter": "python",
   "pygments_lexer": "ipython3",
   "version": "3.10.7"
  },
  "orig_nbformat": 4,
  "vscode": {
   "interpreter": {
    "hash": "4f24a0253c97aac7067866ca5a551e1b796aba3ad79e62f4a54b94976627f254"
   }
  }
 },
 "nbformat": 4,
 "nbformat_minor": 2
}
